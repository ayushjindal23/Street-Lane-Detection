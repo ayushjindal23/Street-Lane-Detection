{
 "cells": [
  {
   "cell_type": "code",
   "execution_count": 2,
   "metadata": {},
   "outputs": [],
   "source": [
    "import matplotlib.pylab as plt\n",
    "import cv2\n",
    "import numpy as np\n",
    "\n",
    "def region_of_interest(img, vertices):\n",
    "    mask = np.zeros_like(img)\n",
    "    #channel_count = img.shape[2]\n",
    "    match_mask_color = 255\n",
    "    cv2.fillPoly(mask, vertices, match_mask_color)\n",
    "    masked_image = cv2.bitwise_and(img, mask)\n",
    "    return masked_image\n",
    "\n",
    "def draw_the_lines (img, lines):\n",
    "    img = np.copy (img)\n",
    "    blank_image = np.zeros((img.shape[0],img.shape[1], 3), dtype=np.uint8)\n",
    "\n",
    "    for line in lines:\n",
    "        for x1,y1,x2,y2 in line:\n",
    "            cv2.line(blank_image, (x1,y1), (x2,y2), (0,255,0), thickness=10)\n",
    "\n",
    "    img = cv2.addWeighted(img, 0.8, blank_image, 1, 0.0)\n",
    "    return img\n",
    "\n",
    "def main(image):\n",
    "    # print(image.shape)\n",
    "     height = image.shape[0]\n",
    "     width = image.shape[1]\n",
    "\n",
    "     roi_vertices = [(0, height-70), (width / 2.3, height / 2.5), (width, height-70)]#ROI may vary from frame to frame, these values are for my input \n",
    "\n",
    "     gray_scale_image = cv2.cvtColor(image, cv2.COLOR_RGB2GRAY)\n",
    "     canny_image = cv2.Canny(gray_scale_image, 100, 120)\n",
    "     cropped_image = region_of_interest(canny_image, np.array([roi_vertices], np.int32))\n",
    "\n",
    "     lines = cv2.HoughLinesP(cropped_image, rho=1, theta=np.pi / 180, threshold=100, lines=np.array([]),\n",
    "                             minLineLength=80, maxLineGap=120)\n",
    "\n",
    "     image_with_lines = draw_the_lines(image, lines)\n",
    "     return image_with_lines\n",
    "\n",
    "capture  = cv2.VideoCapture('roadvideo.mov')\n",
    "\n",
    "while(capture.isOpened()):\n",
    "    ret, frame = capture.read()\n",
    "    frame = main(frame)\n",
    "    cv2.imshow('frame',frame)\n",
    "    if cv2.waitKey(1) & 0xFF == ord('q'):\n",
    "        break\n",
    "\n",
    "capture.release()\n",
    "cv2.destroyAllWindows()"
   ]
  }
 ],
 "metadata": {
  "kernelspec": {
   "display_name": "Python 3",
   "language": "python",
   "name": "python3"
  },
  "language_info": {
   "codemirror_mode": {
    "name": "ipython",
    "version": 3
   },
   "file_extension": ".py",
   "mimetype": "text/x-python",
   "name": "python",
   "nbconvert_exporter": "python",
   "pygments_lexer": "ipython3",
   "version": "3.8.5"
  }
 },
 "nbformat": 4,
 "nbformat_minor": 2
}
